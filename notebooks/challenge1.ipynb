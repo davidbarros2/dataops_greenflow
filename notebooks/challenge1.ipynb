{
  "nbformat": 4,
  "nbformat_minor": 0,
  "metadata": {
    "colab": {
      "provenance": []
    },
    "kernelspec": {
      "name": "python3",
      "display_name": "Python 3"
    },
    "language_info": {
      "name": "python"
    }
  },
  "cells": [
    {
      "cell_type": "code",
      "execution_count": null,
      "metadata": {
        "id": "V2pibBhH8KxP"
      },
      "outputs": [],
      "source": [
        "# Instalar bibliotecas (caso necessário no Google Colab)\n",
        "!pip install pandas matplotlib seaborn pyarrow\n",
        "\n",
        "import pandas as pd\n",
        "import matplotlib.pyplot as plt\n",
        "import seaborn as sns\n",
        "from sklearn.linear_model import LinearRegression\n",
        "from sklearn.metrics import mean_squared_error, r2_score\n",
        "from sklearn.cluster import KMeans\n",
        "from sklearn.preprocessing import StandardScaler"
      ]
    },
    {
      "cell_type": "code",
      "source": [
        "# 1. Carregar o ficheiro Parquet (aqui na área de ficheiros)\n",
        "def carregar_dados(caminho_ficheiro):\n",
        "    try:\n",
        "        dados = pd.read_parquet(caminho_ficheiro, engine=\"pyarrow\")\n",
        "        print(\"Dados carregados com sucesso!\")\n",
        "        return dados\n",
        "    except Exception as e:\n",
        "        print(f\"Erro ao carregar os dados: {e}\")\n",
        "        return None\n",
        "\n",
        "# Substitua o caminho abaixo pelo caminho do seu ficheiro Parquet\n",
        "dados = carregar_dados(\"dados_sensores_5000.parquet\")"
      ],
      "metadata": {
        "id": "OzfI_IN4-Er1"
      },
      "execution_count": null,
      "outputs": []
    },
    {
      "cell_type": "code",
      "source": [
        "# 2. Análise exploratória inicial\n",
        "if dados is not None:\n",
        "    # Mostrar as primeiras linhas dos dados\n",
        "    print(\"\\nPrimeiras linhas do conjunto de dados:\")\n",
        "    print(dados.head())\n",
        "\n",
        "    # Mostrar informações gerais sobre os dados\n",
        "    print(\"\\nInformações gerais dos dados:\")\n",
        "    print(dados.info())\n",
        "\n",
        "    # Mostrar estatísticas descritivas\n",
        "    print(\"\\nEstatísticas descritivas:\")\n",
        "    print(dados.describe())\n",
        "\n",
        "    # Verificar se há valores ausentes\n",
        "    print(\"\\nValores ausentes por coluna:\")\n",
        "    print(dados.isnull().sum())\n"
      ],
      "metadata": {
        "id": "8HbWKfNM-HbL"
      },
      "execution_count": null,
      "outputs": []
    },
    {
      "cell_type": "code",
      "source": [
        "# 3. Tratamento de dados (se necessário caso haja valores em falta)\n",
        "if dados is not None:\n",
        "    # Substituir valores ausentes por zero ou pelo valor médio, conforme necessário\n",
        "    dados.fillna({\n",
        "        \"energia_kwh\": dados[\"energia_kwh\"].mean(),\n",
        "        \"agua_m3\": dados[\"agua_m3\"].mean(),\n",
        "        \"co2_emissoes\": dados[\"co2_emissoes\"].mean()\n",
        "    }, inplace=True)\n",
        "\n",
        "    print(\"\\nDados após tratamento de valores ausentes:\")\n",
        "    print(dados.isnull().sum())"
      ],
      "metadata": {
        "id": "SXlOPfYk-Lc8"
      },
      "execution_count": null,
      "outputs": []
    },
    {
      "cell_type": "code",
      "source": [
        "# 4. Análises específicas deste ponto em diante:\n",
        "# Energia, Água e CO2 por setor\n",
        "setor_analise = dados.groupby(\"setor\").agg({\n",
        "    \"energia_kwh\": \"sum\",\n",
        "    \"agua_m3\": \"sum\",\n",
        "    \"co2_emissoes\": \"sum\"\n",
        "}).sort_values(\"energia_kwh\", ascending=False)\n",
        "\n",
        "print(\"\\nConsumo por setor:\")\n",
        "print(setor_analise)"
      ],
      "metadata": {
        "id": "dFJplHPk-QOb"
      },
      "execution_count": null,
      "outputs": []
    },
    {
      "cell_type": "code",
      "source": [
        "# 5. Identificar empresas com consumo excessivo de água\n",
        "# Utilizou-se um multiplicador de 1.75 pois está a meio do sugerido (entre 1,5 e 2)\n",
        "consumo_excessivo = dados[dados[\"agua_m3\"] > dados[\"agua_m3\"].mean() + 1.75 * dados[\"agua_m3\"].std()]\n",
        "print(\"\\nEmpresas com consumo excessivo de água:\")\n",
        "print(consumo_excessivo)"
      ],
      "metadata": {
        "id": "mpOqEnzC-R7K"
      },
      "execution_count": null,
      "outputs": []
    },
    {
      "cell_type": "code",
      "source": [
        "# 6. Gráficos para análise visual\n",
        "sns.set(style=\"whitegrid\")\n",
        "\n",
        "# Gráfico: Consumo de energia por setor\n",
        "plt.figure(figsize=(10, 6))\n",
        "setor_analise[\"energia_kwh\"].plot(kind=\"bar\", color=\"skyblue\")\n",
        "plt.title(\"Consumo de Energia por Setor\")\n",
        "plt.ylabel(\"Energia (kWh)\")\n",
        "plt.xlabel(\"Setor\")\n",
        "plt.xticks(rotation=45)\n",
        "plt.show()"
      ],
      "metadata": {
        "id": "ROPzkiTf-T_k"
      },
      "execution_count": null,
      "outputs": []
    },
    {
      "cell_type": "code",
      "source": [
        "# 6.1 Gráfico: Consumo de água por setor\n",
        "plt.figure(figsize=(10, 6))\n",
        "setor_analise[\"agua_m3\"].plot(kind=\"bar\", color=\"green\")\n",
        "plt.title(\"Consumo de Água por Setor\")\n",
        "plt.ylabel(\"Água (m³)\")\n",
        "plt.xlabel(\"Setor\")\n",
        "plt.xticks(rotation=45)\n",
        "plt.show()"
      ],
      "metadata": {
        "id": "uBzgYLN3-dHi"
      },
      "execution_count": null,
      "outputs": []
    },
    {
      "cell_type": "code",
      "source": [
        "# 6.2 Gráfico: Emissões de CO2 por setor\n",
        "plt.figure(figsize=(10, 6))\n",
        "setor_analise[\"co2_emissoes\"].plot(kind=\"bar\", color=\"red\")\n",
        "plt.title(\"Emissões de CO2 por Setor\")\n",
        "plt.ylabel(\"CO2 (emissões)\")\n",
        "plt.xlabel(\"Setor\")\n",
        "plt.xticks(rotation=45)\n",
        "plt.show()"
      ],
      "metadata": {
        "id": "Wl5y2Z-5-gEL"
      },
      "execution_count": null,
      "outputs": []
    },
    {
      "cell_type": "code",
      "source": [
        "# 6.3 Comparação entre setores\n",
        "sns.pairplot(dados, hue=\"setor\", diag_kind=\"kde\", corner=True)\n",
        "plt.suptitle(\"Comparação entre Setores\")\n",
        "plt.show()"
      ],
      "metadata": {
        "id": "Of0CFDnd-jgq"
      },
      "execution_count": null,
      "outputs": []
    },
    {
      "cell_type": "code",
      "source": [
        "# 6.4 Boxplot para identificar empresas com consumo fora do padrão\n",
        "plt.figure(figsize=(12, 6))\n",
        "sns.boxplot(data=dados, x=\"setor\", y=\"agua_m3\", hue=\"setor\", palette=\"coolwarm\", legend=False)\n",
        "plt.title(\"Distribuição de Consumo de Água por Setor\")\n",
        "plt.ylabel(\"Consumo de Água (m³)\")\n",
        "plt.xlabel(\"Setor\")\n",
        "plt.xticks(rotation=45)\n",
        "plt.show()"
      ],
      "metadata": {
        "id": "RHLLYVke-pPK"
      },
      "execution_count": null,
      "outputs": []
    },
    {
      "cell_type": "code",
      "source": [
        "# Calcular a matriz de correlação\n",
        "correlation_matrix = dados[['energia_kwh', 'agua_m3', 'co2_emissoes']].corr()\n",
        "\n",
        "# Visualizar a matriz de correlação usando um mapa de calor\n",
        "plt.figure(figsize=(8, 6))\n",
        "sns.heatmap(correlation_matrix, annot=True, cmap='coolwarm', fmt=\".2f\")\n",
        "plt.title('Matriz de correlação entre energia, água, e emissões de CO2')\n",
        "plt.show()\n",
        "\n",
        "# Representação numérica da matriz de correlação\n",
        "print(correlation_matrix)"
      ],
      "metadata": {
        "id": "fU3I59njDmPq"
      },
      "execution_count": null,
      "outputs": []
    },
    {
      "cell_type": "code",
      "source": [
        "# Calcular a média e desvio padrão por setor\n",
        "sector_stats = dados.groupby('setor').agg({\n",
        "    'energia_kwh': ['mean', 'std'],\n",
        "    'agua_m3': ['mean', 'std'],\n",
        "    'co2_emissoes': ['mean', 'std']\n",
        "})\n",
        "\n",
        "# Função para identificar outliers com base em z-score\n",
        "def find_outliers(group, column, sector, threshold=1.5):  # Added 'sector' as argument\n",
        "    z_scores = (group[column] - sector_stats.loc[sector, (column, 'mean')]) / sector_stats.loc[sector, (column, 'std')]\n",
        "    return group[abs(z_scores) > threshold]\n",
        "\n",
        "# Identificar outliers para cada recurso e setor\n",
        "outliers_list = []\n",
        "for sector, group in dados.groupby('setor'):\n",
        "    outliers_list.append(find_outliers(group, 'energia_kwh', sector))  # Pass 'sector' to the function\n",
        "    outliers_list.append(find_outliers(group, 'agua_m3', sector))       # Pass 'sector' to the function\n",
        "    outliers_list.append(find_outliers(group, 'co2_emissoes', sector))  # Pass 'sector' to the function\n",
        "\n",
        "outliers = pd.concat(outliers_list)\n",
        "\n",
        "# Exibir as empresas outliers\n",
        "print(outliers)"
      ],
      "metadata": {
        "id": "xcre52hdD0wD"
      },
      "execution_count": null,
      "outputs": []
    },
    {
      "cell_type": "code",
      "source": [
        "# Agrupar empresas que tem perfis semelhantes de consumo\n",
        "# Selecionar as colunas para clustering\n",
        "features = dados[['energia_kwh', 'agua_m3', 'co2_emissoes']]\n",
        "\n",
        "# Padronizar os dados\n",
        "scaler = StandardScaler()\n",
        "scaled_features = scaler.fit_transform(features)\n",
        "\n",
        "# Criar um modelo K-Means com 3 clusters (ou ajustar número de clusters conforme desejado)\n",
        "kmeans = KMeans(n_clusters=3, random_state=42)  # random_state para reprodutibilidade\n",
        "\n",
        "# Ajustar o modelo aos dados\n",
        "kmeans.fit(scaled_features)\n",
        "\n",
        "# Obter os rótulos dos clusters para cada empresa\n",
        "dados['cluster'] = kmeans.labels_\n",
        "\n",
        "# Visualizar os clusters (gráfico de dispersão)\n",
        "plt.figure(figsize=(10, 6))\n",
        "sns.scatterplot(data=dados, x='energia_kwh', y='agua_m3', hue='cluster', palette='viridis')\n",
        "plt.title('Agrupamento de Empresas por Consumo de Recursos')\n",
        "plt.xlabel('Consumo de Energia (kWh)')\n",
        "plt.ylabel('Consumo de Água (m³)')\n",
        "plt.show()\n",
        "\n",
        "# Analisar as características de cada cluster (média de consumo por cluster)\n",
        "cluster_means = dados.groupby('cluster')[['energia_kwh', 'agua_m3', 'co2_emissoes']].mean()\n",
        "print(cluster_means)"
      ],
      "metadata": {
        "id": "_etaOnmbt0bL"
      },
      "execution_count": null,
      "outputs": []
    },
    {
      "cell_type": "code",
      "source": [
        "# Calcular estatísticas descritivas por setor\n",
        "sector_stats = dados.groupby('setor')[['energia_kwh', 'agua_m3', 'co2_emissoes']].describe()\n",
        "print(sector_stats)\n",
        "\n",
        "# Visualizar o consumo médio por setor com gráficos de barras\n",
        "sector_means = dados.groupby('setor')[['energia_kwh', 'agua_m3', 'co2_emissoes']].mean()\n",
        "\n",
        "sector_means.plot(kind='bar', figsize=(12, 6))\n",
        "plt.title('Consumo Médio de Recursos por Setor')\n",
        "plt.ylabel('Consumo Médio')\n",
        "plt.xticks(rotation=45)\n",
        "plt.show()\n",
        "\n",
        "# Identificar outliers em cada setor (usando boxplots)\n",
        "plt.figure(figsize=(12, 6))\n",
        "sns.boxplot(data=dados, x='setor', y='energia_kwh')  # Substituir 'energia_kwh' por outras colunas para análise\n",
        "plt.title('Distribuição do Consumo de Energia por Setor')\n",
        "plt.ylabel('Consumo de Energia (kWh)')\n",
        "plt.xticks(rotation=45)\n",
        "plt.show()\n",
        "\n",
        "# Comparar a distribuição do consumo entre setores (usando histogramas ou KDE plots)\n",
        "sns.displot(data=dados, x='energia_kwh', hue='setor', kind='kde', fill=True)  # Substituir 'energia_kwh' por outras colunas\n",
        "plt.title('Distribuição do Consumo de Energia por Setor')\n",
        "plt.xlabel('Consumo de Energia (kWh)')\n",
        "plt.show()"
      ],
      "metadata": {
        "id": "M-ePAXNxuJ0c"
      },
      "execution_count": null,
      "outputs": []
    }
  ]
}